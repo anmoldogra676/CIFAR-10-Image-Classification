{
 "cells": [
  {
   "cell_type": "code",
   "execution_count": null,
   "metadata": {
    "_cell_guid": "79c7e3d0-c299-4dcb-8224-4455121ee9b0",
    "_uuid": "d629ff2d2480ee46fbb7e2d37f6b5fab8052498a"
   },
   "outputs": [],
   "source": [
    "import numpy as np\n",
    "from tensorflow.keras.preprocessing.image import ImageDataGenerator\n",
    "from tensorflow.keras.applications.vgg16 import VGG16\n",
    "from tensorflow.keras.layers import Dense, Flatten, Dropout\n",
    "from keras.utils.np_utils import to_categorical\n",
    "from tensorflow.keras import optimizers\n",
    "from tensorflow.keras.callbacks import ModelCheckpoint, EarlyStopping\n",
    "from tensorflow.keras.preprocessing.image import ImageDataGenerator\n",
    "from sklearn.metrics import accuracy_score\n"
   ]
  },
  {
   "cell_type": "code",
   "execution_count": null,
   "metadata": {},
   "outputs": [],
   "source": [
    "\n",
    "\n",
    "data= tf.keras.datasets.cifar10\n",
    "(train_image,train_label),(test_image,test_label)= data.load_data()\n",
    "print(train_image.shape)\n",
    "print(test_image.shape)\n",
    "train_labels = to_categorical(train_label)\n",
    "test_labels = to_categorical(test_label)\n",
    "train_image= train_image/255.0\n",
    "test_image= test_image/255.0\n",
    " \n"
   ]
  },
  {
   "cell_type": "code",
   "execution_count": null,
   "metadata": {},
   "outputs": [],
   "source": [
    "vgg16_model= VGG16(weights='imagenet',\n",
    "                    include_top=False, \n",
    "                    classes=10,\n",
    "                    input_shape=(32,32,3))\n",
    "\n",
    "model = tf.keras.models.Sequential()\n",
    "\n",
    "for i in range(len(vgg16_model.layers)):\n",
    "    model.add(vgg16_model.layers[i])\n",
    "\n",
    "for i in range(len(model.layers)): \n",
    "    model.layers[i].trainable = False\n",
    "\n",
    "from tensorflow.keras.layers import Dense, Flatten, Dropout\n",
    "model.add(Flatten())\n",
    "model.add(Dense(512, activation='relu', name='hidden1'))\n",
    "model.add(Dropout(0.4))\n",
    "model.add(Dense(256, activation='relu', name='hidden2'))\n",
    "model.add(Dropout(0.4))\n",
    "model.add(Dense(10, activation='softmax', name='predictions'))\n",
    "\n",
    "model.summary()"
   ]
  },
  {
   "cell_type": "code",
   "execution_count": null,
   "metadata": {},
   "outputs": [],
   "source": [
    "\n",
    "model.compile(loss= 'sparse_categorical_crossentropy', metrics= ['accuracy'], optimizer= 'adam')\n",
    "ES = EarlyStopping(patience=5, monitor='val_accuracy', mode='max')\n",
    "\n"
   ]
  },
  {
   "cell_type": "code",
   "execution_count": null,
   "metadata": {},
   "outputs": [],
   "source": [
    "\n",
    "\n",
    "AUG = ImageDataGenerator(rotation_range=20, zoom_range=0.15, width_shift_range=0.2, height_shift_range=0.2, shear_range=0.15,\n",
    "                        horizontal_flip=True, fill_mode=\"nearest\")\n",
    " \n",
    "history = model.fit_generator(AUG.flow(train_image,train_label, batch_size=BS),validation_data=(test_image,test_label), epochs =100,\n",
    "                             callbacks=[ES])\n"
   ]
  },
  {
   "cell_type": "code",
   "execution_count": null,
   "metadata": {},
   "outputs": [],
   "source": [
    "predictions = model.predict(test_image)\n",
    "\n",
    "train_loss, train_score = model.evaluate(train_image, train_label)\n",
    "test_loss, test_score = model.evaluate(test_image, test_label)\n",
    "print(\"Train Loss:\", train_loss)\n",
    "print(\"Test Loss:\", test_loss)\n",
    "print(\"Train Score:\", train_score)\n",
    "print(\"Test Score:\", test_score)\n"
   ]
  }
 ],
 "metadata": {
  "kernelspec": {
   "display_name": "Python 3",
   "language": "python",
   "name": "python3"
  },
  "language_info": {
   "codemirror_mode": {
    "name": "ipython",
    "version": 3
   },
   "file_extension": ".py",
   "mimetype": "text/x-python",
   "name": "python",
   "nbconvert_exporter": "python",
   "pygments_lexer": "ipython3",
   "version": "3.7.7"
  }
 },
 "nbformat": 4,
 "nbformat_minor": 4
}
